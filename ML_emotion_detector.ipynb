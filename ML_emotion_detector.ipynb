{
 "cells": [
  {
   "cell_type": "code",
   "execution_count": 1,
   "metadata": {},
   "outputs": [
    {
     "name": "stderr",
     "output_type": "stream",
     "text": [
      "2024-03-06 10:53:49.338811: I tensorflow/core/platform/cpu_feature_guard.cc:182] This TensorFlow binary is optimized to use available CPU instructions in performance-critical operations.\n",
      "To enable the following instructions: AVX2 FMA, in other operations, rebuild TensorFlow with the appropriate compiler flags.\n"
     ]
    }
   ],
   "source": [
    "# Dependencies\n",
    "import matplotlib.pyplot as plt\n",
    "%matplotlib inline\n",
    "\n",
    "import os\n",
    "import numpy as np\n",
    "import tensorflow as tf\n",
    "\n",
    "from tensorflow.keras.preprocessing.image import ImageDataGenerator\n",
    "from tensorflow.keras.models import Sequential\n",
    "from tensorflow.keras.layers import Conv2D, MaxPooling2D, Flatten, Dense\n"
   ]
  },
  {
   "cell_type": "code",
   "execution_count": 2,
   "metadata": {},
   "outputs": [
    {
     "name": "stdout",
     "output_type": "stream",
     "text": [
      "TRAINING------\n",
      "7215: happy imgs\n",
      "4831: sad imgs\n",
      "4097: fear imgs\n",
      "3171: surprise imgs\n",
      "4965: neutral imgs\n",
      "3995: angry imgs\n",
      "436: disgust imgs\n",
      "TEST------\n",
      "1774: happy imgs\n",
      "1247: sad imgs\n",
      "1024: fear imgs\n",
      "831: surprise imgs\n",
      "1233: neutral imgs\n",
      "958: angry imgs\n",
      "111: disgust imgs\n"
     ]
    }
   ],
   "source": [
    "print(\"TRAINING------\")\n",
    "for emotion in os.listdir('train/'):\n",
    "    print(str(len(os.listdir('train/' + emotion))) + ': ' + emotion + ' imgs')\n",
    "\n",
    "print(\"TEST------\")\n",
    "for emotion in os.listdir('test/'):\n",
    "    print(str(len(os.listdir('test/' + emotion))) + ': ' + emotion + ' imgs')"
   ]
  },
  {
   "cell_type": "code",
   "execution_count": 4,
   "metadata": {},
   "outputs": [
    {
     "name": "stdout",
     "output_type": "stream",
     "text": [
      "Found 31880 images belonging to 7 classes.\n",
      "Found 7178 images belonging to 7 classes.\n"
     ]
    }
   ],
   "source": [
    "# Set image and batch size\n",
    "image_size = (224,224)\n",
    "batch_size = 100\n",
    "\n",
    "# Define the directories for training and testing data\n",
    "train_data = 'train/'\n",
    "test_data = 'test/'\n",
    "\n",
    "# Create the image generator for normilization\n",
    "train_data_gen = ImageDataGenerator(horizontal_flip=True)\n",
    "test_data_gen = ImageDataGenerator(horizontal_flip=True)\n",
    "\n",
    "# Generate the batches of training and test data\n",
    "train_generator = train_data_gen.flow_from_directory(\n",
    "    train_data,\n",
    "    target_size = image_size,\n",
    "    batch_size = batch_size,\n",
    "    color_mode = 'grayscale',\n",
    "    class_mode = 'categorical'\n",
    ")\n",
    "\n",
    "test_generator = test_data_gen.flow_from_directory(\n",
    "    test_data,\n",
    "    target_size = image_size,\n",
    "    batch_size = batch_size,\n",
    "    color_mode = 'grayscale',\n",
    "    class_mode = 'categorical'\n",
    ")\n",
    "\n"
   ]
  },
  {
   "cell_type": "code",
   "execution_count": 5,
   "metadata": {},
   "outputs": [
    {
     "name": "stdout",
     "output_type": "stream",
     "text": [
      "Model: \"sequential\"\n",
      "_________________________________________________________________\n",
      " Layer (type)                Output Shape              Param #   \n",
      "=================================================================\n",
      " conv2d (Conv2D)             (None, 222, 222, 32)      320       \n",
      "                                                                 \n",
      " max_pooling2d (MaxPooling2  (None, 111, 111, 32)      0         \n",
      " D)                                                              \n",
      "                                                                 \n",
      " conv2d_1 (Conv2D)           (None, 109, 109, 64)      18496     \n",
      "                                                                 \n",
      " max_pooling2d_1 (MaxPoolin  (None, 54, 54, 64)        0         \n",
      " g2D)                                                            \n",
      "                                                                 \n",
      " conv2d_2 (Conv2D)           (None, 52, 52, 128)       73856     \n",
      "                                                                 \n",
      " max_pooling2d_2 (MaxPoolin  (None, 26, 26, 128)       0         \n",
      " g2D)                                                            \n",
      "                                                                 \n",
      " flatten (Flatten)           (None, 86528)             0         \n",
      "                                                                 \n",
      " dense (Dense)               (None, 128)               11075712  \n",
      "                                                                 \n",
      " dense_1 (Dense)             (None, 1)                 129       \n",
      "                                                                 \n",
      "=================================================================\n",
      "Total params: 11168513 (42.60 MB)\n",
      "Trainable params: 11168513 (42.60 MB)\n",
      "Non-trainable params: 0 (0.00 Byte)\n",
      "_________________________________________________________________\n"
     ]
    }
   ],
   "source": [
    "# Define the model\n",
    "model = Sequential([\n",
    "    Conv2D(32, (3, 3), activation='relu', input_shape=(224,224, 1)),\n",
    "    MaxPooling2D((2, 2)),\n",
    "    Conv2D(64, (3, 3), activation='relu'),\n",
    "    MaxPooling2D((2, 2)),\n",
    "    Conv2D(128, (3, 3), activation='relu'),\n",
    "    MaxPooling2D((2, 2)),\n",
    "    Flatten(),\n",
    "    Dense(128, activation='relu'),\n",
    "    Dense(1, activation='sigmoid')\n",
    "])\n",
    "\n",
    "model.summary()"
   ]
  },
  {
   "cell_type": "code",
   "execution_count": 6,
   "metadata": {},
   "outputs": [],
   "source": [
    "# Compile the model\n",
    "model.compile(optimizer='adam',\n",
    "              loss='binary_crossentropy',\n",
    "              metrics=['accuracy'])"
   ]
  },
  {
   "cell_type": "code",
   "execution_count": 7,
   "metadata": {},
   "outputs": [
    {
     "name": "stdout",
     "output_type": "stream",
     "text": [
      "Epoch 1/10\n",
      "318/318 [==============================] - 1704s 5s/step - loss: 4.5988 - accuracy: 0.8459 - val_loss: 0.4168 - val_accuracy: 0.8571\n",
      "Epoch 2/10\n",
      "318/318 [==============================] - 1675s 5s/step - loss: 0.4192 - accuracy: 0.8571 - val_loss: 0.4218 - val_accuracy: 0.8571\n",
      "Epoch 3/10\n",
      "318/318 [==============================] - 1765s 6s/step - loss: 0.4153 - accuracy: 0.8571 - val_loss: 0.4143 - val_accuracy: 0.8571\n",
      "Epoch 4/10\n",
      "318/318 [==============================] - 1692s 5s/step - loss: 0.4137 - accuracy: 0.8571 - val_loss: 0.4138 - val_accuracy: 0.8571\n",
      "Epoch 5/10\n",
      "318/318 [==============================] - 1690s 5s/step - loss: 0.4130 - accuracy: 0.8571 - val_loss: 0.4129 - val_accuracy: 0.8571\n",
      "Epoch 6/10\n",
      "318/318 [==============================] - 1660s 5s/step - loss: 0.4123 - accuracy: 0.8571 - val_loss: 0.4123 - val_accuracy: 0.8571\n",
      "Epoch 7/10\n",
      "318/318 [==============================] - 1729s 5s/step - loss: 0.4121 - accuracy: 0.8571 - val_loss: 0.4127 - val_accuracy: 0.8571\n",
      "Epoch 8/10\n",
      "318/318 [==============================] - 1699s 5s/step - loss: 0.4117 - accuracy: 0.8571 - val_loss: 0.4119 - val_accuracy: 0.8571\n",
      "Epoch 9/10\n",
      "318/318 [==============================] - 1739s 5s/step - loss: 0.4114 - accuracy: 0.8571 - val_loss: 0.4112 - val_accuracy: 0.8571\n",
      "Epoch 10/10\n",
      "318/318 [==============================] - 1695s 5s/step - loss: 0.4113 - accuracy: 0.8571 - val_loss: 0.4112 - val_accuracy: 0.8571\n"
     ]
    },
    {
     "data": {
      "text/plain": [
       "<keras.src.callbacks.History at 0x134060510>"
      ]
     },
     "execution_count": 7,
     "metadata": {},
     "output_type": "execute_result"
    }
   ],
   "source": [
    "# Train the model\n",
    "model.fit(train_generator,\n",
    "          steps_per_epoch=train_generator.samples // batch_size,\n",
    "          epochs=10,\n",
    "          validation_data=test_generator,\n",
    "          validation_steps=test_generator.samples // batch_size)"
   ]
  },
  {
   "cell_type": "code",
   "execution_count": 8,
   "metadata": {},
   "outputs": [
    {
     "name": "stdout",
     "output_type": "stream",
     "text": [
      "71/71 [==============================] - 107s 1s/step - loss: 0.4112 - accuracy: 0.8571\n",
      "Test accuracy: 0.857143223285675\n"
     ]
    }
   ],
   "source": [
    "# Evaluate the model\n",
    "loss, accuracy = model.evaluate(test_generator, steps=test_generator.samples // batch_size)\n",
    "print(f'Test accuracy: {accuracy}')"
   ]
  },
  {
   "cell_type": "markdown",
   "metadata": {},
   "source": []
  }
 ],
 "metadata": {
  "kernelspec": {
   "display_name": "Python 3",
   "language": "python",
   "name": "python3"
  },
  "language_info": {
   "codemirror_mode": {
    "name": "ipython",
    "version": 3
   },
   "file_extension": ".py",
   "mimetype": "text/x-python",
   "name": "python",
   "nbconvert_exporter": "python",
   "pygments_lexer": "ipython3",
   "version": "3.11.5"
  }
 },
 "nbformat": 4,
 "nbformat_minor": 2
}
