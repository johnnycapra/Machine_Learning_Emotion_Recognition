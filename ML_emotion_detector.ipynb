{
 "cells": [
  {
   "cell_type": "code",
   "execution_count": 12,
   "metadata": {},
   "outputs": [],
   "source": [
    "# Import findspark and initialize. \n",
    "import findspark\n",
    "findspark.init()"
   ]
  },
  {
   "cell_type": "code",
   "execution_count": 13,
   "metadata": {},
   "outputs": [],
   "source": [
    "# Import packages\n",
    "from pyspark.sql import SparkSession\n",
    "import time\n",
    "\n",
    "# Create a SparkSession\n",
    "spark = SparkSession.builder.appName(\"SparkSQL\").getOrCreate()"
   ]
  },
  {
   "cell_type": "code",
   "execution_count": 19,
   "metadata": {},
   "outputs": [
    {
     "name": "stderr",
     "output_type": "stream",
     "text": [
      "24/03/05 20:42:58 WARN CSVHeaderChecker: CSV header does not conform to the schema.\n",
      " Header: , path, label\n",
      " Schema: _c0, path, label\n",
      "Expected: _c0 but found: \n",
      "CSV file: file:///Users/jonathancapra/Desktop/Data-Analytics-ASU/ML_Emotion_Detector/Resources/Emotion_dataset/data.csv\n"
     ]
    },
    {
     "data": {
      "text/plain": [
       "[Row(_c0='0', path='Surprise/1bd930d6a1c717c11be33db74823f661cb53f86cbba1d3d1f336cdf9~12fffff.jpg', label='Surprise'),\n",
       " Row(_c0='1', path='Surprise/cropped_emotions.100096~12fffff.png', label='Surprise'),\n",
       " Row(_c0='2', path='Surprise/0df0e470e33093f5b72a8197fa209d684032cc17f68194e605a26897~12fffff.jpg', label='Surprise'),\n",
       " Row(_c0='3', path='Surprise/cropped_emotions.260779~12fffff.png', label='Surprise'),\n",
       " Row(_c0='4', path='Surprise/cropped_emotions.263616~12fffff.png', label='Surprise')]"
      ]
     },
     "execution_count": 19,
     "metadata": {},
     "output_type": "execute_result"
    }
   ],
   "source": [
    "face_recog = spark.read.csv('Resources/Emotion_dataset/data.csv', header= True)\n",
    "\n",
    "face_recog.head(5)\n"
   ]
  },
  {
   "cell_type": "code",
   "execution_count": null,
   "metadata": {},
   "outputs": [],
   "source": []
  }
 ],
 "metadata": {
  "kernelspec": {
   "display_name": "Python 3",
   "language": "python",
   "name": "python3"
  },
  "language_info": {
   "codemirror_mode": {
    "name": "ipython",
    "version": 3
   },
   "file_extension": ".py",
   "mimetype": "text/x-python",
   "name": "python",
   "nbconvert_exporter": "python",
   "pygments_lexer": "ipython3",
   "version": "3.11.5"
  }
 },
 "nbformat": 4,
 "nbformat_minor": 2
}
