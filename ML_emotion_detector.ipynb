{
 "cells": [
  {
   "cell_type": "code",
   "execution_count": 16,
   "metadata": {},
   "outputs": [],
   "source": [
    "# Import findspark and initialize. \n",
    "import cv2\n",
    "import numpy as np\n",
    "from sklearn.model_selection import train_test_split\n",
    "from sklearn.preprocessing import StandardScaler\n",
    "import tensorflow as tf\n",
    "from tensorflow.keras.applications import VGG16, InceptionV3\n",
    "from pyspark.sql.functions import udf\n",
    "from pyspark.sql.types import ArrayType, DoubleType\n",
    "import pandas as pd\n",
    "import findspark\n",
    "findspark.init()"
   ]
  },
  {
   "cell_type": "code",
   "execution_count": 3,
   "metadata": {},
   "outputs": [],
   "source": [
    "# Import packages\n",
    "from pyspark.sql import SparkSession\n",
    "import time\n",
    "\n",
    "# Create a SparkSession\n",
    "spark = SparkSession.builder.appName(\"SparkSQL\").getOrCreate()"
   ]
  },
  {
   "cell_type": "code",
   "execution_count": 4,
   "metadata": {},
   "outputs": [
    {
     "name": "stderr",
     "output_type": "stream",
     "text": [
      "                                                                                \r"
     ]
    },
    {
     "name": "stdout",
     "output_type": "stream",
     "text": [
      "root\n",
      " |-- path: string (nullable = true)\n",
      " |-- label: string (nullable = true)\n",
      "\n",
      "+--------------------+--------+\n",
      "|                path|   label|\n",
      "+--------------------+--------+\n",
      "|Surprise/1bd930d6...|Surprise|\n",
      "|Surprise/cropped_...|Surprise|\n",
      "|Surprise/0df0e470...|Surprise|\n",
      "|Surprise/cropped_...|Surprise|\n",
      "|Surprise/cropped_...|Surprise|\n",
      "+--------------------+--------+\n",
      "only showing top 5 rows\n",
      "\n"
     ]
    }
   ],
   "source": [
    "face_recog = spark.read.csv('Resources/Emotion_dataset/data.csv', header=True)\n",
    "face_recog = face_recog.drop('_c0')\n",
    "\n",
    "face_recog.printSchema()\n",
    "face_recog.show(5)\n"
   ]
  },
  {
   "cell_type": "code",
   "execution_count": 11,
   "metadata": {},
   "outputs": [
    {
     "data": {
      "text/plain": [
       "DataFrame[path: string, label: string, preprocessed_image: array<double>, features: array<double>]"
      ]
     },
     "execution_count": 11,
     "metadata": {},
     "output_type": "execute_result"
    }
   ],
   "source": [
    "base_model = InceptionV3(weights='imagenet', include_top=False)\n",
    "\n",
    "# Define a function to read and preprocess image data\n",
    "def read_and_preprocess_image(image_path):\n",
    "    # Read image from file\n",
    "    image = cv2.imread(image_path)\n",
    "    # Preprocess image (resize, normalize, etc.)\n",
    "    resized_image = image_size(image, target)\n",
    "    img_arr = img_array(resized_image)\n",
    "    norm_img = normalize_img(img_arr)\n",
    "    return norm_img\n",
    "\n",
    "# Register UDF for reading and preprocessing image data\n",
    "read_and_preprocess_image_udf = udf(read_and_preprocess_image, ArrayType(DoubleType()))\n",
    "\n",
    "# Apply UDF to DataFrame to preprocess image data\n",
    "preprocessed_data = face_recog.withColumn(\"preprocessed_image\", read_and_preprocess_image_udf(face_recog[\"path\"]))\n",
    "\n",
    "# Define a function to extract features from preprocessed images\n",
    "def extract_features(image):\n",
    "    # Resize image to match the input size expected by the model\n",
    "    resized_image = tf.image.resize(image, (222, 222))\n",
    "    # Preprocess image for the InceptionV3 model\n",
    "    preprocessed_image = tf.keras.applications.inception_v3.preprocess_input(resized_image)\n",
    "    # Extract features from the pre-trained model\n",
    "    features = base_model.predict(tf.expand_dims(preprocessed_image, axis=0))\n",
    "    # Reshape features to 1D array\n",
    "    features = features.flatten()\n",
    "    return features\n",
    "\n",
    "# Register UDF for feature extraction\n",
    "extract_features_udf = udf(extract_features, ArrayType(DoubleType()))\n",
    "\n",
    "# Apply UDF to DataFrame to extract features\n",
    "feature_data = preprocessed_data.withColumn(\"features\", extract_features_udf(preprocessed_data[\"preprocessed_image\"]))\n",
    "\n",
    "\n"
   ]
  },
  {
   "cell_type": "code",
   "execution_count": 17,
   "metadata": {},
   "outputs": [
    {
     "data": {
      "text/html": [
       "<div>\n",
       "<style scoped>\n",
       "    .dataframe tbody tr th:only-of-type {\n",
       "        vertical-align: middle;\n",
       "    }\n",
       "\n",
       "    .dataframe tbody tr th {\n",
       "        vertical-align: top;\n",
       "    }\n",
       "\n",
       "    .dataframe thead th {\n",
       "        text-align: right;\n",
       "    }\n",
       "</style>\n",
       "<table border=\"1\" class=\"dataframe\">\n",
       "  <thead>\n",
       "    <tr style=\"text-align: right;\">\n",
       "      <th></th>\n",
       "      <th>DataFrame[path: string, label: string, preprocessed_image: array&lt;double&gt;, features: array&lt;double&gt;]</th>\n",
       "    </tr>\n",
       "  </thead>\n",
       "  <tbody>\n",
       "    <tr>\n",
       "      <th>0</th>\n",
       "      <td>True</td>\n",
       "    </tr>\n",
       "  </tbody>\n",
       "</table>\n",
       "</div>"
      ],
      "text/plain": [
       "   DataFrame[path: string, label: string, preprocessed_image: array<double>, features: array<double>]\n",
       "0                                               True                                                 "
      ]
     },
     "execution_count": 17,
     "metadata": {},
     "output_type": "execute_result"
    }
   ],
   "source": [
    "feature_data_dumb = pd.get_dummies(feature_data)\n",
    "feature_data_dumb.head()"
   ]
  },
  {
   "cell_type": "code",
   "execution_count": 18,
   "metadata": {},
   "outputs": [
    {
     "ename": "TypeError",
     "evalue": "DataFrame.drop() got an unexpected keyword argument 'columns'",
     "output_type": "error",
     "traceback": [
      "\u001b[0;31m---------------------------------------------------------------------------\u001b[0m",
      "\u001b[0;31mTypeError\u001b[0m                                 Traceback (most recent call last)",
      "Cell \u001b[0;32mIn[18], line 2\u001b[0m\n\u001b[1;32m      1\u001b[0m target \u001b[38;5;241m=\u001b[39m \u001b[38;5;124m'\u001b[39m\u001b[38;5;124mlabel\u001b[39m\u001b[38;5;124m'\u001b[39m\n\u001b[0;32m----> 2\u001b[0m features \u001b[38;5;241m=\u001b[39m \u001b[43mfeature_data\u001b[49m\u001b[38;5;241;43m.\u001b[39;49m\u001b[43mdrop\u001b[49m\u001b[43m(\u001b[49m\u001b[43mcolumns\u001b[49m\u001b[38;5;241;43m=\u001b[39;49m\u001b[43m[\u001b[49m\u001b[43mtarget\u001b[49m\u001b[43m]\u001b[49m\u001b[43m)\u001b[49m\n\u001b[1;32m      3\u001b[0m target_values \u001b[38;5;241m=\u001b[39m feature_data[target]\n\u001b[1;32m      4\u001b[0m \u001b[38;5;66;03m# Split the preprocessed data into a training and testing dataset\u001b[39;00m\n",
      "\u001b[0;31mTypeError\u001b[0m: DataFrame.drop() got an unexpected keyword argument 'columns'"
     ]
    }
   ],
   "source": [
    "target = 'label'\n",
    "features = feature_data.drop(columns=[target])\n",
    "target_values = feature_data[target]\n",
    "# Split the preprocessed data into a training and testing dataset\n",
    "X_train, X_test, y_train, y_test = train_test_split(features, target_values, test_size=0.2, random_state=42)\n",
    "\n",
    "# Create a StandardScaler instance\n",
    "scaler = StandardScaler()\n",
    "\n",
    "# Fit the StandardScaler\n",
    "X_scaler = scaler.fit(X_train)\n",
    "\n",
    "# Scale the data\n",
    "X_train_scaled = X_scaler.transform(X_train)\n",
    "X_test_scaled = X_scaler.transform(X_test)\n",
    "\n"
   ]
  },
  {
   "cell_type": "code",
   "execution_count": null,
   "metadata": {},
   "outputs": [],
   "source": []
  }
 ],
 "metadata": {
  "kernelspec": {
   "display_name": "Python 3",
   "language": "python",
   "name": "python3"
  },
  "language_info": {
   "codemirror_mode": {
    "name": "ipython",
    "version": 3
   },
   "file_extension": ".py",
   "mimetype": "text/x-python",
   "name": "python",
   "nbconvert_exporter": "python",
   "pygments_lexer": "ipython3",
   "version": "3.11.5"
  }
 },
 "nbformat": 4,
 "nbformat_minor": 2
}
